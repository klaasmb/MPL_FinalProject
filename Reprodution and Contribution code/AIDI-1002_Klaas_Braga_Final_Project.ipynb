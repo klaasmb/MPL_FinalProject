{
 "cells": [
  {
   "cell_type": "code",
   "execution_count": 1,
   "metadata": {},
   "outputs": [],
   "source": [
    "# import libraries\n",
    "# sklearn reference: https://scikit-learn.org/\n",
    "# pandas reference: https://pandas.pydata.org/\n",
    "from sklearn.feature_extraction.text import TfidfVectorizer, CountVectorizer\n",
    "from sklearn.base import BaseEstimator, TransformerMixin\n",
    "from sklearn.model_selection import train_test_split\n",
    "from sklearn.ensemble import RandomForestClassifier\n",
    "from sklearn.pipeline import Pipeline, FeatureUnion\n",
    "from sklearn import metrics\n",
    "import pandas as pd"
   ]
  },
  {
   "cell_type": "code",
   "execution_count": 2,
   "metadata": {},
   "outputs": [],
   "source": [
    "# text and numeric classes that use sklearn base libaries\n",
    "class TextTransformer(BaseEstimator, TransformerMixin):\n",
    "    \"\"\"\n",
    "    Transform text features\n",
    "    \"\"\"\n",
    "    def __init__(self, key):\n",
    "        self.key = key\n",
    "\n",
    "    def fit(self, X, y=None, *parg, **kwarg):\n",
    "        return self\n",
    "\n",
    "    def transform(self, X):\n",
    "        return X[self.key]\n",
    "    \n",
    "class NumberTransformer(BaseEstimator, TransformerMixin):\n",
    "    \"\"\"\n",
    "    Transform numeric features\n",
    "    \"\"\"\n",
    "    def __init__(self, key):\n",
    "        self.key = key\n",
    "\n",
    "    def fit(self, X, y=None):\n",
    "        return self\n",
    "\n",
    "    def transform(self, X):\n",
    "        return X[[self.key]]"
   ]
  },
  {
   "cell_type": "code",
   "execution_count": 3,
   "metadata": {},
   "outputs": [],
   "source": [
    "# read in your dataframe\n",
    "df = pd.read_csv(r\"C:\\Users\\klaas.braga\\Downloads\\AIDI Georgian\\AIDI1002 MLP\\Final Project\\nlp-example\\data\\DummyDataNLP.csv\")"
   ]
  },
  {
   "cell_type": "code",
   "execution_count": 4,
   "metadata": {},
   "outputs": [
    {
     "data": {
      "text/html": [
       "<div>\n",
       "<style scoped>\n",
       "    .dataframe tbody tr th:only-of-type {\n",
       "        vertical-align: middle;\n",
       "    }\n",
       "\n",
       "    .dataframe tbody tr th {\n",
       "        vertical-align: top;\n",
       "    }\n",
       "\n",
       "    .dataframe thead th {\n",
       "        text-align: right;\n",
       "    }\n",
       "</style>\n",
       "<table border=\"1\" class=\"dataframe\">\n",
       "  <thead>\n",
       "    <tr style=\"text-align: right;\">\n",
       "      <th></th>\n",
       "      <th>Confirmed_Test</th>\n",
       "      <th>Confirmed_Recovery</th>\n",
       "      <th>Confirmed_New</th>\n",
       "      <th>Text_Feature</th>\n",
       "      <th>Text_Predictor</th>\n",
       "    </tr>\n",
       "  </thead>\n",
       "  <tbody>\n",
       "    <tr>\n",
       "      <th>0</th>\n",
       "      <td>36.434962</td>\n",
       "      <td>82.983704</td>\n",
       "      <td>34.824456</td>\n",
       "      <td>Blue</td>\n",
       "      <td>Label_1</td>\n",
       "    </tr>\n",
       "    <tr>\n",
       "      <th>1</th>\n",
       "      <td>75.349163</td>\n",
       "      <td>81.735731</td>\n",
       "      <td>71.921676</td>\n",
       "      <td>Red</td>\n",
       "      <td>Label_2</td>\n",
       "    </tr>\n",
       "    <tr>\n",
       "      <th>2</th>\n",
       "      <td>76.678489</td>\n",
       "      <td>33.588094</td>\n",
       "      <td>14.124835</td>\n",
       "      <td>Yellow</td>\n",
       "      <td>Label_3</td>\n",
       "    </tr>\n",
       "    <tr>\n",
       "      <th>3</th>\n",
       "      <td>73.356221</td>\n",
       "      <td>79.441778</td>\n",
       "      <td>56.910324</td>\n",
       "      <td>Orange</td>\n",
       "      <td>Label_1</td>\n",
       "    </tr>\n",
       "    <tr>\n",
       "      <th>4</th>\n",
       "      <td>74.451946</td>\n",
       "      <td>59.228624</td>\n",
       "      <td>20.042376</td>\n",
       "      <td>Blue</td>\n",
       "      <td>Label_2</td>\n",
       "    </tr>\n",
       "  </tbody>\n",
       "</table>\n",
       "</div>"
      ],
      "text/plain": [
       "   Confirmed_Test  Confirmed_Recovery  Confirmed_New Text_Feature  \\\n",
       "0       36.434962           82.983704      34.824456         Blue   \n",
       "1       75.349163           81.735731      71.921676          Red   \n",
       "2       76.678489           33.588094      14.124835       Yellow   \n",
       "3       73.356221           79.441778      56.910324       Orange   \n",
       "4       74.451946           59.228624      20.042376         Blue   \n",
       "\n",
       "  Text_Predictor  \n",
       "0        Label_1  \n",
       "1        Label_2  \n",
       "2        Label_3  \n",
       "3        Label_1  \n",
       "4        Label_2  "
      ]
     },
     "execution_count": 4,
     "metadata": {},
     "output_type": "execute_result"
    }
   ],
   "source": [
    "# take a look at the first 5 observations\n",
    "df.head()"
   ]
  },
  {
   "cell_type": "code",
   "execution_count": 5,
   "metadata": {},
   "outputs": [],
   "source": [
    "# use the term-frequency inverse document frequency vectorizer to transfrom count of text\n",
    "# into a weighed matrix of term importance\n",
    "vec_tdidf = TfidfVectorizer(ngram_range=(1,1), analyzer='word', norm='l2')"
   ]
  },
  {
   "cell_type": "code",
   "execution_count": 6,
   "metadata": {},
   "outputs": [],
   "source": [
    "# compile both the TextTransformer and TfidfVectorizer \n",
    "# to the text 'Text_Feature' \n",
    "color_text = Pipeline([\n",
    "                ('transformer', TextTransformer(key='Text_Feature')),\n",
    "                ('vectorizer', vec_tdidf)\n",
    "                ])"
   ]
  },
  {
   "cell_type": "code",
   "execution_count": 7,
   "metadata": {},
   "outputs": [],
   "source": [
    "# compile the NumberTransformer to 'Confirmed_Test', 'Confirmed_Recovery', \n",
    "# and 'Confirmed_New' numeric features\n",
    "test_numeric = Pipeline([\n",
    "                ('transformer', NumberTransformer(key='Confirmed_Test')),\n",
    "                ])\n",
    "recovery_numeric = Pipeline([\n",
    "                ('transformer', NumberTransformer(key='Confirmed_Recovery')),\n",
    "                ])\n",
    "new_numeric = Pipeline([\n",
    "                ('transformer', NumberTransformer(key='Confirmed_New')),\n",
    "                ])"
   ]
  },
  {
   "cell_type": "code",
   "execution_count": 8,
   "metadata": {},
   "outputs": [],
   "source": [
    "# combine all of the features, text and numeric together\n",
    "features = FeatureUnion([('Text_Feature', color_text),\n",
    "                      ('Confirmed_Test', test_numeric),\n",
    "                      ('Confirmed_Recovery', recovery_numeric),\n",
    "                      ('Confirmed_New', new_numeric)\n",
    "                      ])"
   ]
  },
  {
   "cell_type": "code",
   "execution_count": 9,
   "metadata": {},
   "outputs": [],
   "source": [
    "# create the classfier from RF\n",
    "clf = RandomForestClassifier()"
   ]
  },
  {
   "cell_type": "code",
   "execution_count": 10,
   "metadata": {},
   "outputs": [],
   "source": [
    "# unite the features and classfier together\n",
    "pipe = Pipeline([('features', features),\n",
    "                 ('clf',clf)\n",
    "                 ])"
   ]
  },
  {
   "cell_type": "code",
   "execution_count": 11,
   "metadata": {},
   "outputs": [],
   "source": [
    "# transform the categorical predictor into numeric\n",
    "predicted_dummies = pd.get_dummies(df['Text_Predictor'])"
   ]
  },
  {
   "cell_type": "code",
   "execution_count": 12,
   "metadata": {},
   "outputs": [],
   "source": [
    "# split the data into train and test\n",
    "# isolate the features from the predicted field\n",
    "text_numeric_features = ['Text_Feature', 'Confirmed_Test', 'Confirmed_Recovery', 'Confirmed_New']\n",
    "predictor = 'Text_Predictor'\n",
    "\n",
    "X_train, X_test, y_train, y_test = train_test_split(df[text_numeric_features], df[predictor], \n",
    "                                                    test_size=0.25, random_state=42)"
   ]
  },
  {
   "cell_type": "code",
   "execution_count": 13,
   "metadata": {},
   "outputs": [
    {
     "data": {
      "text/html": [
       "<style>#sk-container-id-1 {color: black;}#sk-container-id-1 pre{padding: 0;}#sk-container-id-1 div.sk-toggleable {background-color: white;}#sk-container-id-1 label.sk-toggleable__label {cursor: pointer;display: block;width: 100%;margin-bottom: 0;padding: 0.3em;box-sizing: border-box;text-align: center;}#sk-container-id-1 label.sk-toggleable__label-arrow:before {content: \"▸\";float: left;margin-right: 0.25em;color: #696969;}#sk-container-id-1 label.sk-toggleable__label-arrow:hover:before {color: black;}#sk-container-id-1 div.sk-estimator:hover label.sk-toggleable__label-arrow:before {color: black;}#sk-container-id-1 div.sk-toggleable__content {max-height: 0;max-width: 0;overflow: hidden;text-align: left;background-color: #f0f8ff;}#sk-container-id-1 div.sk-toggleable__content pre {margin: 0.2em;color: black;border-radius: 0.25em;background-color: #f0f8ff;}#sk-container-id-1 input.sk-toggleable__control:checked~div.sk-toggleable__content {max-height: 200px;max-width: 100%;overflow: auto;}#sk-container-id-1 input.sk-toggleable__control:checked~label.sk-toggleable__label-arrow:before {content: \"▾\";}#sk-container-id-1 div.sk-estimator input.sk-toggleable__control:checked~label.sk-toggleable__label {background-color: #d4ebff;}#sk-container-id-1 div.sk-label input.sk-toggleable__control:checked~label.sk-toggleable__label {background-color: #d4ebff;}#sk-container-id-1 input.sk-hidden--visually {border: 0;clip: rect(1px 1px 1px 1px);clip: rect(1px, 1px, 1px, 1px);height: 1px;margin: -1px;overflow: hidden;padding: 0;position: absolute;width: 1px;}#sk-container-id-1 div.sk-estimator {font-family: monospace;background-color: #f0f8ff;border: 1px dotted black;border-radius: 0.25em;box-sizing: border-box;margin-bottom: 0.5em;}#sk-container-id-1 div.sk-estimator:hover {background-color: #d4ebff;}#sk-container-id-1 div.sk-parallel-item::after {content: \"\";width: 100%;border-bottom: 1px solid gray;flex-grow: 1;}#sk-container-id-1 div.sk-label:hover label.sk-toggleable__label {background-color: #d4ebff;}#sk-container-id-1 div.sk-serial::before {content: \"\";position: absolute;border-left: 1px solid gray;box-sizing: border-box;top: 0;bottom: 0;left: 50%;z-index: 0;}#sk-container-id-1 div.sk-serial {display: flex;flex-direction: column;align-items: center;background-color: white;padding-right: 0.2em;padding-left: 0.2em;position: relative;}#sk-container-id-1 div.sk-item {position: relative;z-index: 1;}#sk-container-id-1 div.sk-parallel {display: flex;align-items: stretch;justify-content: center;background-color: white;position: relative;}#sk-container-id-1 div.sk-item::before, #sk-container-id-1 div.sk-parallel-item::before {content: \"\";position: absolute;border-left: 1px solid gray;box-sizing: border-box;top: 0;bottom: 0;left: 50%;z-index: -1;}#sk-container-id-1 div.sk-parallel-item {display: flex;flex-direction: column;z-index: 1;position: relative;background-color: white;}#sk-container-id-1 div.sk-parallel-item:first-child::after {align-self: flex-end;width: 50%;}#sk-container-id-1 div.sk-parallel-item:last-child::after {align-self: flex-start;width: 50%;}#sk-container-id-1 div.sk-parallel-item:only-child::after {width: 0;}#sk-container-id-1 div.sk-dashed-wrapped {border: 1px dashed gray;margin: 0 0.4em 0.5em 0.4em;box-sizing: border-box;padding-bottom: 0.4em;background-color: white;}#sk-container-id-1 div.sk-label label {font-family: monospace;font-weight: bold;display: inline-block;line-height: 1.2em;}#sk-container-id-1 div.sk-label-container {text-align: center;}#sk-container-id-1 div.sk-container {/* jupyter's `normalize.less` sets `[hidden] { display: none; }` but bootstrap.min.css set `[hidden] { display: none !important; }` so we also need the `!important` here to be able to override the default hidden behavior on the sphinx rendered scikit-learn.org. See: https://github.com/scikit-learn/scikit-learn/issues/21755 */display: inline-block !important;position: relative;}#sk-container-id-1 div.sk-text-repr-fallback {display: none;}</style><div id=\"sk-container-id-1\" class=\"sk-top-container\"><div class=\"sk-text-repr-fallback\"><pre>Pipeline(steps=[(&#x27;features&#x27;,\n",
       "                 FeatureUnion(transformer_list=[(&#x27;Text_Feature&#x27;,\n",
       "                                                 Pipeline(steps=[(&#x27;transformer&#x27;,\n",
       "                                                                  TextTransformer(key=&#x27;Text_Feature&#x27;)),\n",
       "                                                                 (&#x27;vectorizer&#x27;,\n",
       "                                                                  TfidfVectorizer())])),\n",
       "                                                (&#x27;Confirmed_Test&#x27;,\n",
       "                                                 Pipeline(steps=[(&#x27;transformer&#x27;,\n",
       "                                                                  NumberTransformer(key=&#x27;Confirmed_Test&#x27;))])),\n",
       "                                                (&#x27;Confirmed_Recovery&#x27;,\n",
       "                                                 Pipeline(steps=[(&#x27;transformer&#x27;,\n",
       "                                                                  NumberTransformer(key=&#x27;Confirmed_Recovery&#x27;))])),\n",
       "                                                (&#x27;Confirmed_New&#x27;,\n",
       "                                                 Pipeline(steps=[(&#x27;transformer&#x27;,\n",
       "                                                                  NumberTransformer(key=&#x27;Confirmed_New&#x27;))]))])),\n",
       "                (&#x27;clf&#x27;, RandomForestClassifier())])</pre><b>In a Jupyter environment, please rerun this cell to show the HTML representation or trust the notebook. <br />On GitHub, the HTML representation is unable to render, please try loading this page with nbviewer.org.</b></div><div class=\"sk-container\" hidden><div class=\"sk-item sk-dashed-wrapped\"><div class=\"sk-label-container\"><div class=\"sk-label sk-toggleable\"><input class=\"sk-toggleable__control sk-hidden--visually\" id=\"sk-estimator-id-1\" type=\"checkbox\" ><label for=\"sk-estimator-id-1\" class=\"sk-toggleable__label sk-toggleable__label-arrow\">Pipeline</label><div class=\"sk-toggleable__content\"><pre>Pipeline(steps=[(&#x27;features&#x27;,\n",
       "                 FeatureUnion(transformer_list=[(&#x27;Text_Feature&#x27;,\n",
       "                                                 Pipeline(steps=[(&#x27;transformer&#x27;,\n",
       "                                                                  TextTransformer(key=&#x27;Text_Feature&#x27;)),\n",
       "                                                                 (&#x27;vectorizer&#x27;,\n",
       "                                                                  TfidfVectorizer())])),\n",
       "                                                (&#x27;Confirmed_Test&#x27;,\n",
       "                                                 Pipeline(steps=[(&#x27;transformer&#x27;,\n",
       "                                                                  NumberTransformer(key=&#x27;Confirmed_Test&#x27;))])),\n",
       "                                                (&#x27;Confirmed_Recovery&#x27;,\n",
       "                                                 Pipeline(steps=[(&#x27;transformer&#x27;,\n",
       "                                                                  NumberTransformer(key=&#x27;Confirmed_Recovery&#x27;))])),\n",
       "                                                (&#x27;Confirmed_New&#x27;,\n",
       "                                                 Pipeline(steps=[(&#x27;transformer&#x27;,\n",
       "                                                                  NumberTransformer(key=&#x27;Confirmed_New&#x27;))]))])),\n",
       "                (&#x27;clf&#x27;, RandomForestClassifier())])</pre></div></div></div><div class=\"sk-serial\"><div class=\"sk-item sk-dashed-wrapped\"><div class=\"sk-label-container\"><div class=\"sk-label sk-toggleable\"><input class=\"sk-toggleable__control sk-hidden--visually\" id=\"sk-estimator-id-2\" type=\"checkbox\" ><label for=\"sk-estimator-id-2\" class=\"sk-toggleable__label sk-toggleable__label-arrow\">features: FeatureUnion</label><div class=\"sk-toggleable__content\"><pre>FeatureUnion(transformer_list=[(&#x27;Text_Feature&#x27;,\n",
       "                                Pipeline(steps=[(&#x27;transformer&#x27;,\n",
       "                                                 TextTransformer(key=&#x27;Text_Feature&#x27;)),\n",
       "                                                (&#x27;vectorizer&#x27;,\n",
       "                                                 TfidfVectorizer())])),\n",
       "                               (&#x27;Confirmed_Test&#x27;,\n",
       "                                Pipeline(steps=[(&#x27;transformer&#x27;,\n",
       "                                                 NumberTransformer(key=&#x27;Confirmed_Test&#x27;))])),\n",
       "                               (&#x27;Confirmed_Recovery&#x27;,\n",
       "                                Pipeline(steps=[(&#x27;transformer&#x27;,\n",
       "                                                 NumberTransformer(key=&#x27;Confirmed_Recovery&#x27;))])),\n",
       "                               (&#x27;Confirmed_New&#x27;,\n",
       "                                Pipeline(steps=[(&#x27;transformer&#x27;,\n",
       "                                                 NumberTransformer(key=&#x27;Confirmed_New&#x27;))]))])</pre></div></div></div><div class=\"sk-parallel\"><div class=\"sk-parallel-item\"><div class=\"sk-item\"><div class=\"sk-label-container\"><div class=\"sk-label sk-toggleable\"><label>Text_Feature</label></div></div><div class=\"sk-serial\"><div class=\"sk-item\"><div class=\"sk-serial\"><div class=\"sk-item\"><div class=\"sk-estimator sk-toggleable\"><input class=\"sk-toggleable__control sk-hidden--visually\" id=\"sk-estimator-id-3\" type=\"checkbox\" ><label for=\"sk-estimator-id-3\" class=\"sk-toggleable__label sk-toggleable__label-arrow\">TextTransformer</label><div class=\"sk-toggleable__content\"><pre>TextTransformer(key=&#x27;Text_Feature&#x27;)</pre></div></div></div><div class=\"sk-item\"><div class=\"sk-estimator sk-toggleable\"><input class=\"sk-toggleable__control sk-hidden--visually\" id=\"sk-estimator-id-4\" type=\"checkbox\" ><label for=\"sk-estimator-id-4\" class=\"sk-toggleable__label sk-toggleable__label-arrow\">TfidfVectorizer</label><div class=\"sk-toggleable__content\"><pre>TfidfVectorizer()</pre></div></div></div></div></div></div></div></div><div class=\"sk-parallel-item\"><div class=\"sk-item\"><div class=\"sk-label-container\"><div class=\"sk-label sk-toggleable\"><label>Confirmed_Test</label></div></div><div class=\"sk-serial\"><div class=\"sk-item\"><div class=\"sk-serial\"><div class=\"sk-item\"><div class=\"sk-estimator sk-toggleable\"><input class=\"sk-toggleable__control sk-hidden--visually\" id=\"sk-estimator-id-5\" type=\"checkbox\" ><label for=\"sk-estimator-id-5\" class=\"sk-toggleable__label sk-toggleable__label-arrow\">NumberTransformer</label><div class=\"sk-toggleable__content\"><pre>NumberTransformer(key=&#x27;Confirmed_Test&#x27;)</pre></div></div></div></div></div></div></div></div><div class=\"sk-parallel-item\"><div class=\"sk-item\"><div class=\"sk-label-container\"><div class=\"sk-label sk-toggleable\"><label>Confirmed_Recovery</label></div></div><div class=\"sk-serial\"><div class=\"sk-item\"><div class=\"sk-serial\"><div class=\"sk-item\"><div class=\"sk-estimator sk-toggleable\"><input class=\"sk-toggleable__control sk-hidden--visually\" id=\"sk-estimator-id-6\" type=\"checkbox\" ><label for=\"sk-estimator-id-6\" class=\"sk-toggleable__label sk-toggleable__label-arrow\">NumberTransformer</label><div class=\"sk-toggleable__content\"><pre>NumberTransformer(key=&#x27;Confirmed_Recovery&#x27;)</pre></div></div></div></div></div></div></div></div><div class=\"sk-parallel-item\"><div class=\"sk-item\"><div class=\"sk-label-container\"><div class=\"sk-label sk-toggleable\"><label>Confirmed_New</label></div></div><div class=\"sk-serial\"><div class=\"sk-item\"><div class=\"sk-serial\"><div class=\"sk-item\"><div class=\"sk-estimator sk-toggleable\"><input class=\"sk-toggleable__control sk-hidden--visually\" id=\"sk-estimator-id-7\" type=\"checkbox\" ><label for=\"sk-estimator-id-7\" class=\"sk-toggleable__label sk-toggleable__label-arrow\">NumberTransformer</label><div class=\"sk-toggleable__content\"><pre>NumberTransformer(key=&#x27;Confirmed_New&#x27;)</pre></div></div></div></div></div></div></div></div></div></div><div class=\"sk-item\"><div class=\"sk-estimator sk-toggleable\"><input class=\"sk-toggleable__control sk-hidden--visually\" id=\"sk-estimator-id-8\" type=\"checkbox\" ><label for=\"sk-estimator-id-8\" class=\"sk-toggleable__label sk-toggleable__label-arrow\">RandomForestClassifier</label><div class=\"sk-toggleable__content\"><pre>RandomForestClassifier()</pre></div></div></div></div></div></div></div>"
      ],
      "text/plain": [
       "Pipeline(steps=[('features',\n",
       "                 FeatureUnion(transformer_list=[('Text_Feature',\n",
       "                                                 Pipeline(steps=[('transformer',\n",
       "                                                                  TextTransformer(key='Text_Feature')),\n",
       "                                                                 ('vectorizer',\n",
       "                                                                  TfidfVectorizer())])),\n",
       "                                                ('Confirmed_Test',\n",
       "                                                 Pipeline(steps=[('transformer',\n",
       "                                                                  NumberTransformer(key='Confirmed_Test'))])),\n",
       "                                                ('Confirmed_Recovery',\n",
       "                                                 Pipeline(steps=[('transformer',\n",
       "                                                                  NumberTransformer(key='Confirmed_Recovery'))])),\n",
       "                                                ('Confirmed_New',\n",
       "                                                 Pipeline(steps=[('transformer',\n",
       "                                                                  NumberTransformer(key='Confirmed_New'))]))])),\n",
       "                ('clf', RandomForestClassifier())])"
      ]
     },
     "execution_count": 13,
     "metadata": {},
     "output_type": "execute_result"
    }
   ],
   "source": [
    "# fit the model\n",
    "pipe.fit(X_train, y_train)"
   ]
  },
  {
   "cell_type": "code",
   "execution_count": 14,
   "metadata": {},
   "outputs": [],
   "source": [
    "# predict from the test set\n",
    "preds = pipe.predict(X_test)"
   ]
  },
  {
   "cell_type": "code",
   "execution_count": 15,
   "metadata": {},
   "outputs": [
    {
     "name": "stdout",
     "output_type": "stream",
     "text": [
      "Accuracy: 0.4473684210526316\n"
     ]
    }
   ],
   "source": [
    "# see how you did, since this is randomly generated data,\n",
    "# I would say this accuracy is pretty good :D\n",
    "print(\"Accuracy:\",metrics.accuracy_score(y_test, preds))"
   ]
  },
  {
   "cell_type": "markdown",
   "metadata": {},
   "source": [
    "# Contribution: Integrating a Multi-Layer Perceptron (MLP) model into the existing pipeline and compare it with the RandomForest model"
   ]
  },
  {
   "cell_type": "code",
   "execution_count": 16,
   "metadata": {},
   "outputs": [
    {
     "name": "stdout",
     "output_type": "stream",
     "text": [
      "RandomForest Accuracy: 0.34210526315789475\n",
      "MLP Accuracy: 0.10526315789473684\n"
     ]
    },
    {
     "name": "stderr",
     "output_type": "stream",
     "text": [
      "C:\\Users\\klaas.braga\\AppData\\Local\\anaconda3\\Lib\\site-packages\\sklearn\\neural_network\\_multilayer_perceptron.py:691: ConvergenceWarning: Stochastic Optimizer: Maximum iterations (300) reached and the optimization hasn't converged yet.\n",
      "  warnings.warn(\n"
     ]
    }
   ],
   "source": [
    "from sklearn.neural_network import MLPClassifier\n",
    "from sklearn.ensemble import RandomForestClassifier\n",
    "\n",
    "# Combine all features using FeatureUnion\n",
    "features = FeatureUnion([\n",
    "    ('Text_Feature', color_text),\n",
    "    ('Confirmed_Test', test_numeric),\n",
    "    ('Confirmed_Recovery', recovery_numeric),\n",
    "    ('Confirmed_New', new_numeric)\n",
    "])\n",
    "\n",
    "# Setup the classifiers\n",
    "rf_clf = RandomForestClassifier()\n",
    "mlp_clf = MLPClassifier(hidden_layer_sizes=(100,), max_iter=300, activation='relu', solver='adam', random_state=42)\n",
    "\n",
    "# Create pipelines for each classifier\n",
    "pipeline_rf = Pipeline([\n",
    "    ('features', features),\n",
    "    ('clf', rf_clf)\n",
    "])\n",
    "\n",
    "pipeline_mlp = Pipeline([\n",
    "    ('features', features),\n",
    "    ('clf', mlp_clf)\n",
    "])\n",
    "\n",
    "# Prepare the data\n",
    "X = df[['Text_Feature', 'Confirmed_Test', 'Confirmed_Recovery', 'Confirmed_New']]\n",
    "y = pd.get_dummies(df['Text_Predictor'])  # Assuming the target needs to be transformed as such\n",
    "\n",
    "# Split the data\n",
    "X_train, X_test, y_train, y_test = train_test_split(X, y, test_size=0.25, random_state=42)\n",
    "\n",
    "# Fit the RandomForest model\n",
    "pipeline_rf.fit(X_train, y_train)\n",
    "preds_rf = pipeline_rf.predict(X_test)\n",
    "print(\"RandomForest Accuracy:\", metrics.accuracy_score(y_test, preds_rf))\n",
    "\n",
    "# Fit the MLP model\n",
    "pipeline_mlp.fit(X_train, y_train)\n",
    "preds_mlp = pipeline_mlp.predict(X_test)\n",
    "print(\"MLP Accuracy:\", metrics.accuracy_score(y_test, preds_mlp))\n"
   ]
  },
  {
   "cell_type": "markdown",
   "metadata": {},
   "source": [
    "The results indicate that the RandomForest model significantly outperforms the MLP model in this setup, with accuracies of approximately 31.6% and 10.5%"
   ]
  },
  {
   "cell_type": "markdown",
   "metadata": {},
   "source": [
    "Adjusting the MLP settings and including data scaling in the pipeline to achieve better performance:"
   ]
  },
  {
   "cell_type": "code",
   "execution_count": 17,
   "metadata": {},
   "outputs": [
    {
     "name": "stdout",
     "output_type": "stream",
     "text": [
      "Revised MLP Accuracy: 0.39473684210526316\n"
     ]
    },
    {
     "name": "stderr",
     "output_type": "stream",
     "text": [
      "C:\\Users\\klaas.braga\\AppData\\Local\\anaconda3\\Lib\\site-packages\\sklearn\\neural_network\\_multilayer_perceptron.py:691: ConvergenceWarning: Stochastic Optimizer: Maximum iterations (500) reached and the optimization hasn't converged yet.\n",
      "  warnings.warn(\n"
     ]
    }
   ],
   "source": [
    "from sklearn.preprocessing import StandardScaler\n",
    "\n",
    "# Define a scaler for numeric features (it's efficient to define one scaler and use it for all numeric features)\n",
    "scaler = StandardScaler()\n",
    "\n",
    "# Modify the NumberTransformer to include scaling within its pipeline\n",
    "class ScaledNumberTransformer(BaseEstimator, TransformerMixin):\n",
    "    \"\"\"\n",
    "    Transform and scale numeric features\n",
    "    \"\"\"\n",
    "    def __init__(self, key):\n",
    "        self.key = key\n",
    "        self.scaler = StandardScaler()\n",
    "\n",
    "    def fit(self, X, y=None):\n",
    "        self.scaler.fit(X[[self.key]])\n",
    "        return self\n",
    "\n",
    "    def transform(self, X):\n",
    "        return self.scaler.transform(X[[self.key]])\n",
    "\n",
    "# Create pipelines for each numeric feature using the revised transformer that includes scaling\n",
    "test_numeric = Pipeline([\n",
    "    ('transformer', ScaledNumberTransformer(key='Confirmed_Test'))\n",
    "])\n",
    "recovery_numeric = Pipeline([\n",
    "    ('transformer', ScaledNumberTransformer(key='Confirmed_Recovery'))\n",
    "])\n",
    "new_numeric = Pipeline([\n",
    "    ('transformer', ScaledNumberTransformer(key='Confirmed_New'))\n",
    "])\n",
    "\n",
    "# Combine all features using FeatureUnion\n",
    "features = FeatureUnion([\n",
    "    ('Text_Feature', color_text),  # Assuming color_text is defined correctly and does not need scaling\n",
    "    ('Confirmed_Test', test_numeric),\n",
    "    ('Confirmed_Recovery', recovery_numeric),\n",
    "    ('Confirmed_New', new_numeric)\n",
    "])\n",
    "\n",
    "# Redefine the MLP with suitable parameters\n",
    "mlp_clf = MLPClassifier(hidden_layer_sizes=(150, 100), max_iter=500, activation='tanh', solver='adam', random_state=42)\n",
    "\n",
    "# Create the pipeline for MLP\n",
    "pipeline_mlp = Pipeline([\n",
    "    ('features', features),\n",
    "    ('clf', mlp_clf)\n",
    "])\n",
    "\n",
    "# Prepare data and fit the model\n",
    "X_train, X_test, y_train, y_test = train_test_split(X, y, test_size=0.25, random_state=42)\n",
    "\n",
    "pipeline_mlp.fit(X_train, y_train)\n",
    "preds_mlp = pipeline_mlp.predict(X_test)\n",
    "print(\"Revised MLP Accuracy:\", metrics.accuracy_score(y_test, preds_mlp))\n"
   ]
  },
  {
   "cell_type": "markdown",
   "metadata": {},
   "source": [
    "The revised MLP model has shown improvement with an accuracy of approximately 39.47%. That is still lower than the original achieved accuracy using only the RF Classifier. Now, let's apply Cross-Validation and Hyperparameter Tuning to the MLP:"
   ]
  },
  {
   "cell_type": "code",
   "execution_count": 20,
   "metadata": {},
   "outputs": [
    {
     "name": "stdout",
     "output_type": "stream",
     "text": [
      "Best parameters found:\n",
      " {'clf__activation': 'relu', 'clf__alpha': 0.05, 'clf__hidden_layer_sizes': (150, 100), 'clf__learning_rate': 'constant', 'clf__solver': 'adam'}\n"
     ]
    },
    {
     "name": "stderr",
     "output_type": "stream",
     "text": [
      "C:\\Users\\klaas.braga\\AppData\\Local\\anaconda3\\Lib\\site-packages\\sklearn\\neural_network\\_multilayer_perceptron.py:691: ConvergenceWarning: Stochastic Optimizer: Maximum iterations (500) reached and the optimization hasn't converged yet.\n",
      "  warnings.warn(\n",
      "C:\\Users\\klaas.braga\\AppData\\Local\\anaconda3\\Lib\\site-packages\\sklearn\\neural_network\\_multilayer_perceptron.py:691: ConvergenceWarning: Stochastic Optimizer: Maximum iterations (500) reached and the optimization hasn't converged yet.\n",
      "  warnings.warn(\n",
      "C:\\Users\\klaas.braga\\AppData\\Local\\anaconda3\\Lib\\site-packages\\sklearn\\neural_network\\_multilayer_perceptron.py:691: ConvergenceWarning: Stochastic Optimizer: Maximum iterations (500) reached and the optimization hasn't converged yet.\n",
      "  warnings.warn(\n",
      "C:\\Users\\klaas.braga\\AppData\\Local\\anaconda3\\Lib\\site-packages\\sklearn\\neural_network\\_multilayer_perceptron.py:691: ConvergenceWarning: Stochastic Optimizer: Maximum iterations (500) reached and the optimization hasn't converged yet.\n",
      "  warnings.warn(\n"
     ]
    },
    {
     "name": "stdout",
     "output_type": "stream",
     "text": [
      "Average accuracy from CV:  0.3\n"
     ]
    },
    {
     "name": "stderr",
     "output_type": "stream",
     "text": [
      "C:\\Users\\klaas.braga\\AppData\\Local\\anaconda3\\Lib\\site-packages\\sklearn\\neural_network\\_multilayer_perceptron.py:691: ConvergenceWarning: Stochastic Optimizer: Maximum iterations (500) reached and the optimization hasn't converged yet.\n",
      "  warnings.warn(\n"
     ]
    }
   ],
   "source": [
    "from sklearn.model_selection import GridSearchCV, cross_val_score\n",
    "\n",
    "# Define parameter grid\n",
    "parameter_space = {\n",
    "    'clf__hidden_layer_sizes': [(100,), (150, 100), (100, 100, 100)],\n",
    "    'clf__activation': ['tanh', 'relu'],\n",
    "    'clf__solver': ['sgd', 'adam'],\n",
    "    'clf__alpha': [0.0001, 0.05],\n",
    "    'clf__learning_rate': ['constant','adaptive'],\n",
    "}\n",
    "\n",
    "# Create GridSearchCV to find the best parameters\n",
    "clf = GridSearchCV(pipeline_mlp, parameter_space, n_jobs=-1, cv=3)\n",
    "clf.fit(X_train, y_train)\n",
    "\n",
    "print(\"Best parameters found:\\n\", clf.best_params_)\n",
    "\n",
    "# Evaluate the model with best parameters\n",
    "best_mlp = clf.best_estimator_\n",
    "scores = cross_val_score(best_mlp, X, y, cv=5)\n",
    "print(\"Average accuracy from CV: \", scores.mean())\n"
   ]
  },
  {
   "cell_type": "markdown",
   "metadata": {},
   "source": [
    "Since the hyperparameter tuning through Cross-Validation did not yield a better accuracy than before, we can set up a simple voting ensemble with RandomForest and MLP:"
   ]
  },
  {
   "cell_type": "code",
   "execution_count": 25,
   "metadata": {},
   "outputs": [
    {
     "name": "stdout",
     "output_type": "stream",
     "text": [
      "Ensemble Accuracy: 0.5\n"
     ]
    }
   ],
   "source": [
    "from sklearn.ensemble import VotingClassifier\n",
    "\n",
    "# Define the voting classifier combining RandomForest and MLP\n",
    "voting_clf = VotingClassifier(estimators=[\n",
    "    ('rf', pipeline_rf),  # assuming pipeline_rf is your RandomForest pipeline\n",
    "    ('mlp', best_mlp)],   # best_mlp from GridSearchCV\n",
    "    voting='soft')\n",
    "\n",
    "# Fit the ensemble model\n",
    "voting_clf.fit(X_train, y_train)\n",
    "preds_ensemble = voting_clf.predict(X_test)\n",
    "\n",
    "# Evaluate the ensemble model\n",
    "print(\"Ensemble Accuracy:\", metrics.accuracy_score(y_test, preds_ensemble))\n"
   ]
  },
  {
   "cell_type": "markdown",
   "metadata": {},
   "source": [
    "The ensemble model, combining both RandomForest and MLP classifiers, has shown an improvement in accuracy to about 50%. This is better than either of the individual MLP models that have been tested. This suggests that leveraging the strengths of both classifiers through ensemble methods can yield a more robust prediction system."
   ]
  },
  {
   "cell_type": "markdown",
   "metadata": {},
   "source": [
    "Now, let's apply Cross-Validation and Hyperparameter Tuning to the ensemble model:"
   ]
  },
  {
   "cell_type": "code",
   "execution_count": 28,
   "metadata": {},
   "outputs": [
    {
     "name": "stdout",
     "output_type": "stream",
     "text": [
      "Fitting 5 folds for each of 40 candidates, totalling 200 fits\n",
      "Best parameters: {'mlp__clf__activation': 'relu', 'mlp__clf__hidden_layer_sizes': (150, 100), 'rf__clf__n_estimators': 200, 'weights': [1.5, 1]}\n",
      "Best cross-validated accuracy: 0.48142292490118577\n",
      "Test Accuracy: 0.5\n"
     ]
    }
   ],
   "source": [
    "from sklearn.model_selection import GridSearchCV\n",
    "\n",
    "# Define the parameter grid\n",
    "param_grid = {\n",
    "    'weights': [[1, 1], [1.5, 1], [1, 1.5], [2, 1], [1, 2]],  # Varying weights between RandomForest and MLP\n",
    "    'rf__clf__n_estimators': [100, 200],  # Varying the number of trees in RandomForest\n",
    "    'mlp__clf__hidden_layer_sizes': [(100,), (150, 100)],  # Varying architecture of the MLP\n",
    "    'mlp__clf__activation': ['tanh', 'relu']  # Different activation functions for MLP\n",
    "}\n",
    "\n",
    "# Note: Ensure the classifier names in the parameter grid match those in the voting classifier's setup.\n",
    "\n",
    "# Set up GridSearchCV\n",
    "grid_search = GridSearchCV(estimator=voting_clf, param_grid=param_grid, cv=5, scoring='accuracy', n_jobs=-1, verbose=1)\n",
    "\n",
    "# Fit GridSearchCV\n",
    "grid_search.fit(X_train, y_train)\n",
    "\n",
    "# Best parameters and best score\n",
    "print(\"Best parameters:\", grid_search.best_params_)\n",
    "print(\"Best cross-validated accuracy:\", grid_search.best_score_)\n",
    "\n",
    "# Use the best estimator to make predictions\n",
    "best_voting_clf = grid_search.best_estimator_\n",
    "predictions = best_voting_clf.predict(X_test)\n",
    "\n",
    "# Evaluate the best model\n",
    "from sklearn.metrics import accuracy_score\n",
    "print(\"Test Accuracy:\", accuracy_score(y_test, predictions))\n"
   ]
  },
  {
   "cell_type": "markdown",
   "metadata": {},
   "source": [
    "The results from the hyperparameter tuning and cross-validation indicate that the ensemble model has improved significantly. The enhanced model achieved the best cross-validated accuracy of approximately 48.14% and a test accuracy of 50%. This shows a notable improvement over the individual performances of the RandomForest and MLP models and a similar one to the ensemble configuration.\n",
    "\n",
    "The best configuration used relu activation for the MLP, a two-layer structure with 150 and 100 neurons, and 200 trees in the RandomForest classifier. The weights favoring RandomForest slightly more (1.5 vs. 1) indicate that the RandomForest is slightly more influential in this optimal setup."
   ]
  },
  {
   "cell_type": "markdown",
   "metadata": {},
   "source": [
    "# Conclusion"
   ]
  },
  {
   "cell_type": "markdown",
   "metadata": {},
   "source": [
    "Although we were able to significantly enhance the accuracy achieved by the MLP model from around 10% to a final 50% tested accuracy in our final model, given that the initial model described in the article had an accuracy of approximately 44.73%, we can see that there has been some 5% improvement.\n",
    "\n",
    "The enhancement in performance by adding the MLP and using an ensemble method is relatively small (about 5.27% improvement). This suggests that while the ensemble method has provided a better model, the improvement may not justify the increased complexity and computational cost, depending on the specific application and performance requirements.\n",
    "\n",
    "In practical applications, it's essential to consider the trade-off between the complexity of the model and the performance gain. The more complex the model, the more resources and time are required for training and inference, which might not be ideal for all scenarios."
   ]
  },
  {
   "cell_type": "code",
   "execution_count": null,
   "metadata": {},
   "outputs": [],
   "source": []
  }
 ],
 "metadata": {
  "kernelspec": {
   "display_name": "Python 3 (ipykernel)",
   "language": "python",
   "name": "python3"
  },
  "language_info": {
   "codemirror_mode": {
    "name": "ipython",
    "version": 3
   },
   "file_extension": ".py",
   "mimetype": "text/x-python",
   "name": "python",
   "nbconvert_exporter": "python",
   "pygments_lexer": "ipython3",
   "version": "3.11.5"
  }
 },
 "nbformat": 4,
 "nbformat_minor": 4
}
