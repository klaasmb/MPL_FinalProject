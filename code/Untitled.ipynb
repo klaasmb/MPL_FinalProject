{
 "cells": [
  {
   "cell_type": "markdown",
   "id": "6647293f",
   "metadata": {},
   "source": [
    "# Reproducing results from article:"
   ]
  },
  {
   "cell_type": "code",
   "execution_count": 3,
   "id": "29702501",
   "metadata": {},
   "outputs": [],
   "source": [
    "# import libraries\n",
    "# sklearn reference: https://scikit-learn.org/\n",
    "# pandas reference: https://pandas.pydata.org/\n",
    "from sklearn.feature_extraction.text import TfidfVectorizer, CountVectorizer\n",
    "from sklearn.base import BaseEstimator, TransformerMixin\n",
    "from sklearn.model_selection import train_test_split\n",
    "from sklearn.ensemble import RandomForestClassifier\n",
    "from sklearn.pipeline import Pipeline, FeatureUnion\n",
    "from sklearn import metrics\n",
    "import pandas as pd"
   ]
  },
  {
   "cell_type": "code",
   "execution_count": 4,
   "id": "7b86ab59",
   "metadata": {},
   "outputs": [],
   "source": [
    "# text and numeric classes that use sklearn base libaries\n",
    "class TextTransformer(BaseEstimator, TransformerMixin):\n",
    "    \"\"\"\n",
    "    Transform text features\n",
    "    \"\"\"\n",
    "    def __init__(self, key):\n",
    "        self.key = key\n",
    "\n",
    "    def fit(self, X, y=None, *parg, **kwarg):\n",
    "        return self\n",
    "\n",
    "    def transform(self, X):\n",
    "        return X[self.key]\n",
    "    \n",
    "class NumberTransformer(BaseEstimator, TransformerMixin):\n",
    "    \"\"\"\n",
    "    Transform numeric features\n",
    "    \"\"\"\n",
    "    def __init__(self, key):\n",
    "        self.key = key\n",
    "\n",
    "    def fit(self, X, y=None):\n",
    "        return self\n",
    "\n",
    "    def transform(self, X):\n",
    "        return X[[self.key]]"
   ]
  },
  {
   "cell_type": "code",
   "execution_count": 5,
   "id": "751020cf",
   "metadata": {},
   "outputs": [],
   "source": [
    "# read in your dataframe\n",
    "df = pd.read_csv(r\"C:\\Users\\klaas.braga\\Downloads\\AIDI Georgian\\AIDI1002 MLP\\Final Project\\nlp-example\\data\\DummyDataNLP.csv\")"
   ]
  },
  {
   "cell_type": "code",
   "execution_count": 6,
   "id": "aa0eddd3",
   "metadata": {},
   "outputs": [
    {
     "data": {
      "text/html": [
       "<div>\n",
       "<style scoped>\n",
       "    .dataframe tbody tr th:only-of-type {\n",
       "        vertical-align: middle;\n",
       "    }\n",
       "\n",
       "    .dataframe tbody tr th {\n",
       "        vertical-align: top;\n",
       "    }\n",
       "\n",
       "    .dataframe thead th {\n",
       "        text-align: right;\n",
       "    }\n",
       "</style>\n",
       "<table border=\"1\" class=\"dataframe\">\n",
       "  <thead>\n",
       "    <tr style=\"text-align: right;\">\n",
       "      <th></th>\n",
       "      <th>Confirmed_Test</th>\n",
       "      <th>Confirmed_Recovery</th>\n",
       "      <th>Confirmed_New</th>\n",
       "      <th>Text_Feature</th>\n",
       "      <th>Text_Predictor</th>\n",
       "    </tr>\n",
       "  </thead>\n",
       "  <tbody>\n",
       "    <tr>\n",
       "      <th>0</th>\n",
       "      <td>36.434962</td>\n",
       "      <td>82.983704</td>\n",
       "      <td>34.824456</td>\n",
       "      <td>Blue</td>\n",
       "      <td>Label_1</td>\n",
       "    </tr>\n",
       "    <tr>\n",
       "      <th>1</th>\n",
       "      <td>75.349163</td>\n",
       "      <td>81.735731</td>\n",
       "      <td>71.921676</td>\n",
       "      <td>Red</td>\n",
       "      <td>Label_2</td>\n",
       "    </tr>\n",
       "    <tr>\n",
       "      <th>2</th>\n",
       "      <td>76.678489</td>\n",
       "      <td>33.588094</td>\n",
       "      <td>14.124835</td>\n",
       "      <td>Yellow</td>\n",
       "      <td>Label_3</td>\n",
       "    </tr>\n",
       "    <tr>\n",
       "      <th>3</th>\n",
       "      <td>73.356221</td>\n",
       "      <td>79.441778</td>\n",
       "      <td>56.910324</td>\n",
       "      <td>Orange</td>\n",
       "      <td>Label_1</td>\n",
       "    </tr>\n",
       "    <tr>\n",
       "      <th>4</th>\n",
       "      <td>74.451946</td>\n",
       "      <td>59.228624</td>\n",
       "      <td>20.042376</td>\n",
       "      <td>Blue</td>\n",
       "      <td>Label_2</td>\n",
       "    </tr>\n",
       "  </tbody>\n",
       "</table>\n",
       "</div>"
      ],
      "text/plain": [
       "   Confirmed_Test  Confirmed_Recovery  Confirmed_New Text_Feature  \\\n",
       "0       36.434962           82.983704      34.824456         Blue   \n",
       "1       75.349163           81.735731      71.921676          Red   \n",
       "2       76.678489           33.588094      14.124835       Yellow   \n",
       "3       73.356221           79.441778      56.910324       Orange   \n",
       "4       74.451946           59.228624      20.042376         Blue   \n",
       "\n",
       "  Text_Predictor  \n",
       "0        Label_1  \n",
       "1        Label_2  \n",
       "2        Label_3  \n",
       "3        Label_1  \n",
       "4        Label_2  "
      ]
     },
     "execution_count": 6,
     "metadata": {},
     "output_type": "execute_result"
    }
   ],
   "source": [
    "# take a look at the first 5 observations\n",
    "df.head()"
   ]
  },
  {
   "cell_type": "code",
   "execution_count": 7,
   "id": "bcbac155",
   "metadata": {},
   "outputs": [],
   "source": [
    "# use the term-frequency inverse document frequency vectorizer to transfrom count of text\n",
    "# into a weighed matrix of term importance\n",
    "vec_tdidf = TfidfVectorizer(ngram_range=(1,1), analyzer='word', norm='l2')"
   ]
  },
  {
   "cell_type": "code",
   "execution_count": 8,
   "id": "657c6cbe",
   "metadata": {},
   "outputs": [],
   "source": [
    "# compile both the TextTransformer and TfidfVectorizer \n",
    "# to the text 'Text_Feature' \n",
    "color_text = Pipeline([\n",
    "                ('transformer', TextTransformer(key='Text_Feature')),\n",
    "                ('vectorizer', vec_tdidf)\n",
    "                ])"
   ]
  },
  {
   "cell_type": "code",
   "execution_count": 9,
   "id": "dd2f13cc",
   "metadata": {},
   "outputs": [],
   "source": [
    "# compile the NumberTransformer to 'Confirmed_Test', 'Confirmed_Recovery', \n",
    "# and 'Confirmed_New' numeric features\n",
    "test_numeric = Pipeline([\n",
    "                ('transformer', NumberTransformer(key='Confirmed_Test')),\n",
    "                ])\n",
    "recovery_numeric = Pipeline([\n",
    "                ('transformer', NumberTransformer(key='Confirmed_Recovery')),\n",
    "                ])\n",
    "new_numeric = Pipeline([\n",
    "                ('transformer', NumberTransformer(key='Confirmed_New')),\n",
    "                ])"
   ]
  },
  {
   "cell_type": "code",
   "execution_count": 10,
   "id": "f1e0922a",
   "metadata": {},
   "outputs": [],
   "source": [
    "# combine all of the features, text and numeric together\n",
    "features = FeatureUnion([('Text_Feature', color_text),\n",
    "                      ('Confirmed_Test', test_numeric),\n",
    "                      ('Confirmed_Recovery', recovery_numeric),\n",
    "                      ('Confirmed_New', new_numeric)\n",
    "                      ])"
   ]
  },
  {
   "cell_type": "code",
   "execution_count": 11,
   "id": "46f1456d",
   "metadata": {},
   "outputs": [],
   "source": [
    "# create the classfier from RF\n",
    "clf = RandomForestClassifier()"
   ]
  },
  {
   "cell_type": "code",
   "execution_count": 12,
   "id": "7bd4acf1",
   "metadata": {},
   "outputs": [],
   "source": [
    "# unite the features and classfier together\n",
    "pipe = Pipeline([('features', features),\n",
    "                 ('clf',clf)\n",
    "                 ])"
   ]
  },
  {
   "cell_type": "code",
   "execution_count": 13,
   "id": "817a2144",
   "metadata": {},
   "outputs": [],
   "source": [
    "# transform the categorical predictor into numeric\n",
    "predicted_dummies = pd.get_dummies(df['Text_Predictor'])"
   ]
  },
  {
   "cell_type": "code",
   "execution_count": 37,
   "id": "14b9568a",
   "metadata": {},
   "outputs": [],
   "source": [
    "# split the data into train and test\n",
    "# isolate the features from the predicted field\n",
    "text_numeric_features = ['Text_Feature', 'Confirmed_Test', 'Confirmed_Recovery', 'Confirmed_New']\n",
    "predictor = 'Text_Predictor'\n",
    "\n",
    "X_train, X_test, y_train, y_test = train_test_split(df[text_numeric_features], df[predictor], \n",
    "                                                    test_size=0.25, random_state=42)"
   ]
  },
  {
   "cell_type": "code",
   "execution_count": 38,
   "id": "b6a48b4f",
   "metadata": {},
   "outputs": [
    {
     "data": {
      "text/html": [
       "<style>#sk-container-id-6 {color: black;}#sk-container-id-6 pre{padding: 0;}#sk-container-id-6 div.sk-toggleable {background-color: white;}#sk-container-id-6 label.sk-toggleable__label {cursor: pointer;display: block;width: 100%;margin-bottom: 0;padding: 0.3em;box-sizing: border-box;text-align: center;}#sk-container-id-6 label.sk-toggleable__label-arrow:before {content: \"▸\";float: left;margin-right: 0.25em;color: #696969;}#sk-container-id-6 label.sk-toggleable__label-arrow:hover:before {color: black;}#sk-container-id-6 div.sk-estimator:hover label.sk-toggleable__label-arrow:before {color: black;}#sk-container-id-6 div.sk-toggleable__content {max-height: 0;max-width: 0;overflow: hidden;text-align: left;background-color: #f0f8ff;}#sk-container-id-6 div.sk-toggleable__content pre {margin: 0.2em;color: black;border-radius: 0.25em;background-color: #f0f8ff;}#sk-container-id-6 input.sk-toggleable__control:checked~div.sk-toggleable__content {max-height: 200px;max-width: 100%;overflow: auto;}#sk-container-id-6 input.sk-toggleable__control:checked~label.sk-toggleable__label-arrow:before {content: \"▾\";}#sk-container-id-6 div.sk-estimator input.sk-toggleable__control:checked~label.sk-toggleable__label {background-color: #d4ebff;}#sk-container-id-6 div.sk-label input.sk-toggleable__control:checked~label.sk-toggleable__label {background-color: #d4ebff;}#sk-container-id-6 input.sk-hidden--visually {border: 0;clip: rect(1px 1px 1px 1px);clip: rect(1px, 1px, 1px, 1px);height: 1px;margin: -1px;overflow: hidden;padding: 0;position: absolute;width: 1px;}#sk-container-id-6 div.sk-estimator {font-family: monospace;background-color: #f0f8ff;border: 1px dotted black;border-radius: 0.25em;box-sizing: border-box;margin-bottom: 0.5em;}#sk-container-id-6 div.sk-estimator:hover {background-color: #d4ebff;}#sk-container-id-6 div.sk-parallel-item::after {content: \"\";width: 100%;border-bottom: 1px solid gray;flex-grow: 1;}#sk-container-id-6 div.sk-label:hover label.sk-toggleable__label {background-color: #d4ebff;}#sk-container-id-6 div.sk-serial::before {content: \"\";position: absolute;border-left: 1px solid gray;box-sizing: border-box;top: 0;bottom: 0;left: 50%;z-index: 0;}#sk-container-id-6 div.sk-serial {display: flex;flex-direction: column;align-items: center;background-color: white;padding-right: 0.2em;padding-left: 0.2em;position: relative;}#sk-container-id-6 div.sk-item {position: relative;z-index: 1;}#sk-container-id-6 div.sk-parallel {display: flex;align-items: stretch;justify-content: center;background-color: white;position: relative;}#sk-container-id-6 div.sk-item::before, #sk-container-id-6 div.sk-parallel-item::before {content: \"\";position: absolute;border-left: 1px solid gray;box-sizing: border-box;top: 0;bottom: 0;left: 50%;z-index: -1;}#sk-container-id-6 div.sk-parallel-item {display: flex;flex-direction: column;z-index: 1;position: relative;background-color: white;}#sk-container-id-6 div.sk-parallel-item:first-child::after {align-self: flex-end;width: 50%;}#sk-container-id-6 div.sk-parallel-item:last-child::after {align-self: flex-start;width: 50%;}#sk-container-id-6 div.sk-parallel-item:only-child::after {width: 0;}#sk-container-id-6 div.sk-dashed-wrapped {border: 1px dashed gray;margin: 0 0.4em 0.5em 0.4em;box-sizing: border-box;padding-bottom: 0.4em;background-color: white;}#sk-container-id-6 div.sk-label label {font-family: monospace;font-weight: bold;display: inline-block;line-height: 1.2em;}#sk-container-id-6 div.sk-label-container {text-align: center;}#sk-container-id-6 div.sk-container {/* jupyter's `normalize.less` sets `[hidden] { display: none; }` but bootstrap.min.css set `[hidden] { display: none !important; }` so we also need the `!important` here to be able to override the default hidden behavior on the sphinx rendered scikit-learn.org. See: https://github.com/scikit-learn/scikit-learn/issues/21755 */display: inline-block !important;position: relative;}#sk-container-id-6 div.sk-text-repr-fallback {display: none;}</style><div id=\"sk-container-id-6\" class=\"sk-top-container\"><div class=\"sk-text-repr-fallback\"><pre>Pipeline(steps=[(&#x27;features&#x27;,\n",
       "                 FeatureUnion(transformer_list=[(&#x27;Text_Feature&#x27;,\n",
       "                                                 Pipeline(steps=[(&#x27;transformer&#x27;,\n",
       "                                                                  TextTransformer(key=&#x27;Text_Feature&#x27;)),\n",
       "                                                                 (&#x27;vectorizer&#x27;,\n",
       "                                                                  TfidfVectorizer())])),\n",
       "                                                (&#x27;Confirmed_Test&#x27;,\n",
       "                                                 Pipeline(steps=[(&#x27;transformer&#x27;,\n",
       "                                                                  NumberTransformer(key=&#x27;Confirmed_Test&#x27;))])),\n",
       "                                                (&#x27;Confirmed_Recovery&#x27;,\n",
       "                                                 Pipeline(steps=[(&#x27;transformer&#x27;,\n",
       "                                                                  NumberTransformer(key=&#x27;Confirmed_Recovery&#x27;))])),\n",
       "                                                (&#x27;Confirmed_New&#x27;,\n",
       "                                                 Pipeline(steps=[(&#x27;transformer&#x27;,\n",
       "                                                                  NumberTransformer(key=&#x27;Confirmed_New&#x27;))]))])),\n",
       "                (&#x27;clf&#x27;, RandomForestClassifier())])</pre><b>In a Jupyter environment, please rerun this cell to show the HTML representation or trust the notebook. <br />On GitHub, the HTML representation is unable to render, please try loading this page with nbviewer.org.</b></div><div class=\"sk-container\" hidden><div class=\"sk-item sk-dashed-wrapped\"><div class=\"sk-label-container\"><div class=\"sk-label sk-toggleable\"><input class=\"sk-toggleable__control sk-hidden--visually\" id=\"sk-estimator-id-41\" type=\"checkbox\" ><label for=\"sk-estimator-id-41\" class=\"sk-toggleable__label sk-toggleable__label-arrow\">Pipeline</label><div class=\"sk-toggleable__content\"><pre>Pipeline(steps=[(&#x27;features&#x27;,\n",
       "                 FeatureUnion(transformer_list=[(&#x27;Text_Feature&#x27;,\n",
       "                                                 Pipeline(steps=[(&#x27;transformer&#x27;,\n",
       "                                                                  TextTransformer(key=&#x27;Text_Feature&#x27;)),\n",
       "                                                                 (&#x27;vectorizer&#x27;,\n",
       "                                                                  TfidfVectorizer())])),\n",
       "                                                (&#x27;Confirmed_Test&#x27;,\n",
       "                                                 Pipeline(steps=[(&#x27;transformer&#x27;,\n",
       "                                                                  NumberTransformer(key=&#x27;Confirmed_Test&#x27;))])),\n",
       "                                                (&#x27;Confirmed_Recovery&#x27;,\n",
       "                                                 Pipeline(steps=[(&#x27;transformer&#x27;,\n",
       "                                                                  NumberTransformer(key=&#x27;Confirmed_Recovery&#x27;))])),\n",
       "                                                (&#x27;Confirmed_New&#x27;,\n",
       "                                                 Pipeline(steps=[(&#x27;transformer&#x27;,\n",
       "                                                                  NumberTransformer(key=&#x27;Confirmed_New&#x27;))]))])),\n",
       "                (&#x27;clf&#x27;, RandomForestClassifier())])</pre></div></div></div><div class=\"sk-serial\"><div class=\"sk-item sk-dashed-wrapped\"><div class=\"sk-label-container\"><div class=\"sk-label sk-toggleable\"><input class=\"sk-toggleable__control sk-hidden--visually\" id=\"sk-estimator-id-42\" type=\"checkbox\" ><label for=\"sk-estimator-id-42\" class=\"sk-toggleable__label sk-toggleable__label-arrow\">features: FeatureUnion</label><div class=\"sk-toggleable__content\"><pre>FeatureUnion(transformer_list=[(&#x27;Text_Feature&#x27;,\n",
       "                                Pipeline(steps=[(&#x27;transformer&#x27;,\n",
       "                                                 TextTransformer(key=&#x27;Text_Feature&#x27;)),\n",
       "                                                (&#x27;vectorizer&#x27;,\n",
       "                                                 TfidfVectorizer())])),\n",
       "                               (&#x27;Confirmed_Test&#x27;,\n",
       "                                Pipeline(steps=[(&#x27;transformer&#x27;,\n",
       "                                                 NumberTransformer(key=&#x27;Confirmed_Test&#x27;))])),\n",
       "                               (&#x27;Confirmed_Recovery&#x27;,\n",
       "                                Pipeline(steps=[(&#x27;transformer&#x27;,\n",
       "                                                 NumberTransformer(key=&#x27;Confirmed_Recovery&#x27;))])),\n",
       "                               (&#x27;Confirmed_New&#x27;,\n",
       "                                Pipeline(steps=[(&#x27;transformer&#x27;,\n",
       "                                                 NumberTransformer(key=&#x27;Confirmed_New&#x27;))]))])</pre></div></div></div><div class=\"sk-parallel\"><div class=\"sk-parallel-item\"><div class=\"sk-item\"><div class=\"sk-label-container\"><div class=\"sk-label sk-toggleable\"><label>Text_Feature</label></div></div><div class=\"sk-serial\"><div class=\"sk-item\"><div class=\"sk-serial\"><div class=\"sk-item\"><div class=\"sk-estimator sk-toggleable\"><input class=\"sk-toggleable__control sk-hidden--visually\" id=\"sk-estimator-id-43\" type=\"checkbox\" ><label for=\"sk-estimator-id-43\" class=\"sk-toggleable__label sk-toggleable__label-arrow\">TextTransformer</label><div class=\"sk-toggleable__content\"><pre>TextTransformer(key=&#x27;Text_Feature&#x27;)</pre></div></div></div><div class=\"sk-item\"><div class=\"sk-estimator sk-toggleable\"><input class=\"sk-toggleable__control sk-hidden--visually\" id=\"sk-estimator-id-44\" type=\"checkbox\" ><label for=\"sk-estimator-id-44\" class=\"sk-toggleable__label sk-toggleable__label-arrow\">TfidfVectorizer</label><div class=\"sk-toggleable__content\"><pre>TfidfVectorizer()</pre></div></div></div></div></div></div></div></div><div class=\"sk-parallel-item\"><div class=\"sk-item\"><div class=\"sk-label-container\"><div class=\"sk-label sk-toggleable\"><label>Confirmed_Test</label></div></div><div class=\"sk-serial\"><div class=\"sk-item\"><div class=\"sk-serial\"><div class=\"sk-item\"><div class=\"sk-estimator sk-toggleable\"><input class=\"sk-toggleable__control sk-hidden--visually\" id=\"sk-estimator-id-45\" type=\"checkbox\" ><label for=\"sk-estimator-id-45\" class=\"sk-toggleable__label sk-toggleable__label-arrow\">NumberTransformer</label><div class=\"sk-toggleable__content\"><pre>NumberTransformer(key=&#x27;Confirmed_Test&#x27;)</pre></div></div></div></div></div></div></div></div><div class=\"sk-parallel-item\"><div class=\"sk-item\"><div class=\"sk-label-container\"><div class=\"sk-label sk-toggleable\"><label>Confirmed_Recovery</label></div></div><div class=\"sk-serial\"><div class=\"sk-item\"><div class=\"sk-serial\"><div class=\"sk-item\"><div class=\"sk-estimator sk-toggleable\"><input class=\"sk-toggleable__control sk-hidden--visually\" id=\"sk-estimator-id-46\" type=\"checkbox\" ><label for=\"sk-estimator-id-46\" class=\"sk-toggleable__label sk-toggleable__label-arrow\">NumberTransformer</label><div class=\"sk-toggleable__content\"><pre>NumberTransformer(key=&#x27;Confirmed_Recovery&#x27;)</pre></div></div></div></div></div></div></div></div><div class=\"sk-parallel-item\"><div class=\"sk-item\"><div class=\"sk-label-container\"><div class=\"sk-label sk-toggleable\"><label>Confirmed_New</label></div></div><div class=\"sk-serial\"><div class=\"sk-item\"><div class=\"sk-serial\"><div class=\"sk-item\"><div class=\"sk-estimator sk-toggleable\"><input class=\"sk-toggleable__control sk-hidden--visually\" id=\"sk-estimator-id-47\" type=\"checkbox\" ><label for=\"sk-estimator-id-47\" class=\"sk-toggleable__label sk-toggleable__label-arrow\">NumberTransformer</label><div class=\"sk-toggleable__content\"><pre>NumberTransformer(key=&#x27;Confirmed_New&#x27;)</pre></div></div></div></div></div></div></div></div></div></div><div class=\"sk-item\"><div class=\"sk-estimator sk-toggleable\"><input class=\"sk-toggleable__control sk-hidden--visually\" id=\"sk-estimator-id-48\" type=\"checkbox\" ><label for=\"sk-estimator-id-48\" class=\"sk-toggleable__label sk-toggleable__label-arrow\">RandomForestClassifier</label><div class=\"sk-toggleable__content\"><pre>RandomForestClassifier()</pre></div></div></div></div></div></div></div>"
      ],
      "text/plain": [
       "Pipeline(steps=[('features',\n",
       "                 FeatureUnion(transformer_list=[('Text_Feature',\n",
       "                                                 Pipeline(steps=[('transformer',\n",
       "                                                                  TextTransformer(key='Text_Feature')),\n",
       "                                                                 ('vectorizer',\n",
       "                                                                  TfidfVectorizer())])),\n",
       "                                                ('Confirmed_Test',\n",
       "                                                 Pipeline(steps=[('transformer',\n",
       "                                                                  NumberTransformer(key='Confirmed_Test'))])),\n",
       "                                                ('Confirmed_Recovery',\n",
       "                                                 Pipeline(steps=[('transformer',\n",
       "                                                                  NumberTransformer(key='Confirmed_Recovery'))])),\n",
       "                                                ('Confirmed_New',\n",
       "                                                 Pipeline(steps=[('transformer',\n",
       "                                                                  NumberTransformer(key='Confirmed_New'))]))])),\n",
       "                ('clf', RandomForestClassifier())])"
      ]
     },
     "execution_count": 38,
     "metadata": {},
     "output_type": "execute_result"
    }
   ],
   "source": [
    "# fit the model\n",
    "pipe.fit(X_train, y_train)"
   ]
  },
  {
   "cell_type": "code",
   "execution_count": 39,
   "id": "9b5a8979",
   "metadata": {},
   "outputs": [],
   "source": [
    "# predict from the test set\n",
    "preds = pipe.predict(X_test)"
   ]
  },
  {
   "cell_type": "code",
   "execution_count": 40,
   "id": "ead2916a",
   "metadata": {},
   "outputs": [
    {
     "name": "stdout",
     "output_type": "stream",
     "text": [
      "Accuracy: 0.4473684210526316\n"
     ]
    }
   ],
   "source": [
    "# see how you did, since this is randomly generated data,\n",
    "# I would say this accuracy is pretty good :D\n",
    "print(\"Accuracy:\",metrics.accuracy_score(y_test, preds))"
   ]
  },
  {
   "cell_type": "code",
   "execution_count": null,
   "id": "8f1cf388",
   "metadata": {},
   "outputs": [],
   "source": []
  },
  {
   "cell_type": "code",
   "execution_count": null,
   "id": "9659416f",
   "metadata": {},
   "outputs": [],
   "source": []
  }
 ],
 "metadata": {
  "kernelspec": {
   "display_name": "Python 3 (ipykernel)",
   "language": "python",
   "name": "python3"
  },
  "language_info": {
   "codemirror_mode": {
    "name": "ipython",
    "version": 3
   },
   "file_extension": ".py",
   "mimetype": "text/x-python",
   "name": "python",
   "nbconvert_exporter": "python",
   "pygments_lexer": "ipython3",
   "version": "3.11.5"
  }
 },
 "nbformat": 4,
 "nbformat_minor": 5
}
